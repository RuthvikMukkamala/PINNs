{
 "cells": [
  {
   "cell_type": "code",
   "id": "initial_id",
   "metadata": {
    "collapsed": true,
    "ExecuteTime": {
     "end_time": "2025-01-11T23:23:12.960103Z",
     "start_time": "2025-01-11T23:23:12.185611Z"
    }
   },
   "source": "import torch ",
   "outputs": [],
   "execution_count": 18
  },
  {
   "metadata": {
    "ExecuteTime": {
     "end_time": "2025-01-11T23:23:12.984474Z",
     "start_time": "2025-01-11T23:23:12.961179Z"
    }
   },
   "cell_type": "code",
   "source": [
    "x = torch.rand(3, 3)\n",
    "x"
   ],
   "id": "398b4eb849ed69f0",
   "outputs": [
    {
     "data": {
      "text/plain": [
       "tensor([[0.7167, 0.3948, 0.8547],\n",
       "        [0.2246, 0.7470, 0.5405],\n",
       "        [0.9346, 0.5444, 0.2184]])"
      ]
     },
     "execution_count": 19,
     "metadata": {},
     "output_type": "execute_result"
    }
   ],
   "execution_count": 19
  },
  {
   "metadata": {
    "ExecuteTime": {
     "end_time": "2025-01-11T23:23:12.987288Z",
     "start_time": "2025-01-11T23:23:12.985117Z"
    }
   },
   "cell_type": "code",
   "source": "x[1, 1]",
   "id": "ab5a481b9397edda",
   "outputs": [
    {
     "data": {
      "text/plain": [
       "tensor(0.7470)"
      ]
     },
     "execution_count": 20,
     "metadata": {},
     "output_type": "execute_result"
    }
   ],
   "execution_count": 20
  },
  {
   "metadata": {
    "ExecuteTime": {
     "end_time": "2025-01-11T23:23:12.989838Z",
     "start_time": "2025-01-11T23:23:12.988435Z"
    }
   },
   "cell_type": "code",
   "source": "y = x.view(-1, 1)",
   "id": "4cf4df641cb580ca",
   "outputs": [],
   "execution_count": 21
  },
  {
   "metadata": {
    "ExecuteTime": {
     "end_time": "2025-01-11T23:23:12.992280Z",
     "start_time": "2025-01-11T23:23:12.990396Z"
    }
   },
   "cell_type": "code",
   "source": "y",
   "id": "fcf65b4d36b6b39e",
   "outputs": [
    {
     "data": {
      "text/plain": [
       "tensor([[0.7167],\n",
       "        [0.3948],\n",
       "        [0.8547],\n",
       "        [0.2246],\n",
       "        [0.7470],\n",
       "        [0.5405],\n",
       "        [0.9346],\n",
       "        [0.5444],\n",
       "        [0.2184]])"
      ]
     },
     "execution_count": 22,
     "metadata": {},
     "output_type": "execute_result"
    }
   ],
   "execution_count": 22
  },
  {
   "metadata": {
    "ExecuteTime": {
     "end_time": "2025-01-11T23:23:12.997478Z",
     "start_time": "2025-01-11T23:23:12.992766Z"
    }
   },
   "cell_type": "code",
   "source": [
    "a = torch.ones(5)\n",
    "b = a.numpy()\n",
    "a + b"
   ],
   "id": "3db9d1663d88465f",
   "outputs": [
    {
     "data": {
      "text/plain": [
       "tensor([2., 2., 2., 2., 2.])"
      ]
     },
     "execution_count": 23,
     "metadata": {},
     "output_type": "execute_result"
    }
   ],
   "execution_count": 23
  },
  {
   "metadata": {
    "ExecuteTime": {
     "end_time": "2025-01-12T01:27:59.044182Z",
     "start_time": "2025-01-12T01:27:58.646147Z"
    }
   },
   "cell_type": "code",
   "source": [
    "import wrds\n",
    "\n",
    "\n"
   ],
   "id": "eea7f95081bafa80",
   "outputs": [],
   "execution_count": 1
  },
  {
   "metadata": {
    "ExecuteTime": {
     "end_time": "2025-01-12T01:28:13.392056Z",
     "start_time": "2025-01-12T01:27:59.044986Z"
    }
   },
   "cell_type": "code",
   "source": "db = wrds.Connection()",
   "id": "2163244f489e5d19",
   "outputs": [
    {
     "name": "stdout",
     "output_type": "stream",
     "text": [
      "WRDS recommends setting up a .pgpass file.\n",
      "Created .pgpass file successfully.\n",
      "You can create this file yourself at any time with the create_pgpass_file() function.\n",
      "Loading library list...\n",
      "Done\n"
     ]
    }
   ],
   "execution_count": 2
  },
  {
   "metadata": {
    "ExecuteTime": {
     "end_time": "2025-01-12T01:28:13.395218Z",
     "start_time": "2025-01-12T01:28:13.392872Z"
    }
   },
   "cell_type": "code",
   "source": "db.list_libraries().sort()",
   "id": "eb57963b6e989bcb",
   "outputs": [],
   "execution_count": 3
  },
  {
   "metadata": {
    "ExecuteTime": {
     "end_time": "2025-01-12T01:28:13.400930Z",
     "start_time": "2025-01-12T01:28:13.395802Z"
    }
   },
   "cell_type": "code",
   "source": "db.list_libraries()",
   "id": "a23d8a132c0290cb",
   "outputs": [
    {
     "data": {
      "text/plain": [
       "['aha_sample',\n",
       " 'ahasamp',\n",
       " 'auditsmp',\n",
       " 'auditsmp_all',\n",
       " 'bank',\n",
       " 'bank_all',\n",
       " 'bank_premium_samp',\n",
       " 'banksamp',\n",
       " 'block',\n",
       " 'block_all',\n",
       " 'boardex_trial',\n",
       " 'boardsmp',\n",
       " 'bvd_amadeus_trial',\n",
       " 'bvd_bvdbankf_trial',\n",
       " 'bvd_orbis_trial',\n",
       " 'bvdsamp',\n",
       " 'calcbench_trial',\n",
       " 'calcbnch',\n",
       " 'cboe',\n",
       " 'cboe_all',\n",
       " 'cboe_sample',\n",
       " 'cboesamp',\n",
       " 'ciq',\n",
       " 'ciq_capstrct',\n",
       " 'ciq_common',\n",
       " 'ciq_keydev',\n",
       " 'ciq_pplintel',\n",
       " 'ciqsamp',\n",
       " 'ciqsamp_capstrct',\n",
       " 'ciqsamp_common',\n",
       " 'ciqsamp_keydev',\n",
       " 'ciqsamp_pplintel',\n",
       " 'ciqsamp_ratings',\n",
       " 'ciqsamp_transactions',\n",
       " 'ciqsamp_transcripts',\n",
       " 'cisdmsmp',\n",
       " 'columnar',\n",
       " 'comp',\n",
       " 'comp_bank',\n",
       " 'comp_bank_daily',\n",
       " 'comp_execucomp',\n",
       " 'comp_filings',\n",
       " 'comp_global',\n",
       " 'comp_global_daily',\n",
       " 'comp_na_annual_all',\n",
       " 'comp_na_daily_all',\n",
       " 'comp_na_monthly_all',\n",
       " 'comp_segments_hist',\n",
       " 'comp_segments_hist_daily',\n",
       " 'compa',\n",
       " 'compb',\n",
       " 'compg',\n",
       " 'compm',\n",
       " 'compsamp',\n",
       " 'compsamp_all',\n",
       " 'compsamp_snapshot',\n",
       " 'compseg',\n",
       " 'contrib',\n",
       " 'contrib_as_filed_financials',\n",
       " 'contrib_ceo_turnover',\n",
       " 'contrib_char_returns',\n",
       " 'contrib_corporate_culture',\n",
       " 'contrib_general',\n",
       " 'contrib_global_factor',\n",
       " 'contrib_intangible_value',\n",
       " 'contrib_kpss',\n",
       " 'contrib_liva',\n",
       " 'crsp',\n",
       " 'crsp_a_ccm',\n",
       " 'crsp_a_indexes',\n",
       " 'crsp_a_stock',\n",
       " 'crsp_a_treasuries',\n",
       " 'crsp_q_mutualfunds',\n",
       " 'crspsamp',\n",
       " 'crspsamp_all',\n",
       " 'crspsamp_mf',\n",
       " 'csmar',\n",
       " 'csmar_financial',\n",
       " 'csmar_funds',\n",
       " 'csmar_trade',\n",
       " 'csmsamp_all',\n",
       " 'dealscan',\n",
       " 'djones',\n",
       " 'djones_all',\n",
       " 'dmef',\n",
       " 'dmef_all',\n",
       " 'doe',\n",
       " 'doe_all',\n",
       " 'etfg_samp',\n",
       " 'etfgsamp',\n",
       " 'eurekahedge_sample',\n",
       " 'eursamp',\n",
       " 'execcomp',\n",
       " 'factsamp_all',\n",
       " 'factsamp_revere',\n",
       " 'ff',\n",
       " 'ff_all',\n",
       " 'fisd',\n",
       " 'fisd_common',\n",
       " 'fisd_fisd',\n",
       " 'fisd_naic',\n",
       " 'fisdsamp',\n",
       " 'fisdsamp_all',\n",
       " 'fjc',\n",
       " 'fjc_linking',\n",
       " 'fjc_litigation',\n",
       " 'frb',\n",
       " 'frb_all',\n",
       " 'fssamp',\n",
       " 'ftsesamp',\n",
       " 'ftsesamp_russell_us',\n",
       " 'gutenberg',\n",
       " 'hfrsamp',\n",
       " 'hfrsamp_hfrdb',\n",
       " 'ibes',\n",
       " 'ibessamp_kpi',\n",
       " 'ifgr',\n",
       " 'ifgrsamp',\n",
       " 'ims_obp_trial',\n",
       " 'imssamp',\n",
       " 'infogroup_business_academic',\n",
       " 'infogroupsamp_business',\n",
       " 'infogroupsamp_residential',\n",
       " 'insdsamp',\n",
       " 'iri',\n",
       " 'iri_all',\n",
       " 'iss',\n",
       " 'iss_incentive_lab',\n",
       " 'iss_incentive_lab_europe',\n",
       " 'iss_va_mf',\n",
       " 'iss_va_shareholder',\n",
       " 'iss_va_vote_us',\n",
       " 'kpisamp',\n",
       " 'ktmine_patents_samp',\n",
       " 'ktsamp',\n",
       " 'lvnsamp',\n",
       " 'lvnsamp_all',\n",
       " 'macrofin',\n",
       " 'macrofin_comm_trade',\n",
       " 'markit',\n",
       " 'markit_cds',\n",
       " 'mfl',\n",
       " 'mflinks_all',\n",
       " 'midas',\n",
       " 'morningstarsamp_cisdm',\n",
       " 'mrktsamp',\n",
       " 'mrktsamp_cds',\n",
       " 'mrktsamp_cdx',\n",
       " 'mrktsamp_msf',\n",
       " 'msci_esg_samp',\n",
       " 'msciesmp',\n",
       " 'msrb',\n",
       " 'msrb_all',\n",
       " 'msrbsamp',\n",
       " 'msrbsamp_all',\n",
       " 'omtrial',\n",
       " 'optionmsamp_europe',\n",
       " 'optionmsamp_us',\n",
       " 'otc',\n",
       " 'otc_endofday',\n",
       " 'phlx',\n",
       " 'phlx_all',\n",
       " 'pitchbk',\n",
       " 'pitchbk_common',\n",
       " 'pitchbk_other_na',\n",
       " 'pitchbk_other_row',\n",
       " 'pitchbk_pe_na',\n",
       " 'pitchbk_pe_row',\n",
       " 'pitchbk_vc_na',\n",
       " 'pitchbk_vc_row',\n",
       " 'pitchsmp',\n",
       " 'ppubsamp',\n",
       " 'ppubsamp_d4d',\n",
       " 'ppubsamp_rx_checkup',\n",
       " 'preqin',\n",
       " 'preqin_cashflow',\n",
       " 'preqin_deals',\n",
       " 'preqin_gp',\n",
       " 'preqin_lp',\n",
       " 'preqin_pe',\n",
       " 'preqin_vc',\n",
       " 'preqsamp',\n",
       " 'preqsamp_all',\n",
       " 'public',\n",
       " 'public_all',\n",
       " 'pwt',\n",
       " 'pwt_all',\n",
       " 'ravenpack_trial',\n",
       " 'reprisk_sample',\n",
       " 'repsamp',\n",
       " 'revelio_samp',\n",
       " 'revsamp',\n",
       " 'risk',\n",
       " 'risk_directors',\n",
       " 'risk_governance',\n",
       " 'risk_proposals',\n",
       " 'risksamp',\n",
       " 'risksamp_all',\n",
       " 'rpnasamp',\n",
       " 'rq_all',\n",
       " 'rstat_samp',\n",
       " 'rstatsmp',\n",
       " 'sdc',\n",
       " 'sdcsamp',\n",
       " 'secsamp',\n",
       " 'secsamp_all',\n",
       " 'snapsamp',\n",
       " 'snlsamp',\n",
       " 'snlsamp_fig',\n",
       " 'sustainalyticssamp_all',\n",
       " 'sustsamp',\n",
       " 'taqm_2007',\n",
       " 'taqm_2010',\n",
       " 'taqm_2011',\n",
       " 'taqm_2012',\n",
       " 'taqm_2013',\n",
       " 'taqm_2014',\n",
       " 'taqm_2015',\n",
       " 'taqm_2016',\n",
       " 'taqm_2017',\n",
       " 'taqm_2018',\n",
       " 'taqm_2019',\n",
       " 'taqm_2020',\n",
       " 'taqm_2021',\n",
       " 'taqm_2022',\n",
       " 'taqm_2023',\n",
       " 'taqm_2024',\n",
       " 'taqm_2025',\n",
       " 'taqmsamp',\n",
       " 'taqmsamp_all',\n",
       " 'taqmsec',\n",
       " 'taqsamp',\n",
       " 'taqsamp_all',\n",
       " 'tass',\n",
       " 'tfn',\n",
       " 'totalq',\n",
       " 'totalq_all',\n",
       " 'tr_13f',\n",
       " 'tr_common',\n",
       " 'tr_dealscan',\n",
       " 'tr_ds_comds',\n",
       " 'tr_ds_econ',\n",
       " 'tr_ds_equities',\n",
       " 'tr_ds_fut',\n",
       " 'tr_esg',\n",
       " 'tr_ibes',\n",
       " 'tr_insiders',\n",
       " 'tr_mutualfunds',\n",
       " 'tr_sdc_ma',\n",
       " 'tr_sdc_ni',\n",
       " 'tr_sdc_samples',\n",
       " 'tr_tass',\n",
       " 'tr_worldscope',\n",
       " 'trace',\n",
       " 'trace_enhanced',\n",
       " 'trace_standard',\n",
       " 'trcommon',\n",
       " 'trcstsmp',\n",
       " 'trdbdmismp',\n",
       " 'trdbwbsmp',\n",
       " 'trdssamp',\n",
       " 'trdstrm',\n",
       " 'tresg',\n",
       " 'tresgsmp',\n",
       " 'trsamp',\n",
       " 'trsamp_all',\n",
       " 'trsamp_db_dmi',\n",
       " 'trsamp_db_wb',\n",
       " 'trsamp_ds_eq',\n",
       " 'trsamp_dscom',\n",
       " 'trsamp_dsecon',\n",
       " 'trsamp_dsfut',\n",
       " 'trsamp_esg',\n",
       " 'trsamp_sdc_ma',\n",
       " 'trsamp_sdc_ni',\n",
       " 'trsamp_worldscope',\n",
       " 'trucost_samp',\n",
       " 'trws',\n",
       " 'twoiq_samp',\n",
       " 'twoiqsmp',\n",
       " 'wappsamp',\n",
       " 'wenvsmp',\n",
       " 'wmfsmp',\n",
       " 'wrds_environmental_samp',\n",
       " 'wrds_insiders_samp',\n",
       " 'wrds_lib_internal',\n",
       " 'wrds_mutualfund_samp',\n",
       " 'wrds_sec_search',\n",
       " 'wrdsapps',\n",
       " 'wrdsapps_backtest_basic',\n",
       " 'wrdsapps_backtest_plus',\n",
       " 'wrdsapps_bondret',\n",
       " 'wrdsapps_eushort',\n",
       " 'wrdsapps_evtstudy_int',\n",
       " 'wrdsapps_evtstudy_int_ginsight',\n",
       " 'wrdsapps_evtstudy_lr',\n",
       " 'wrdsapps_evtstudy_lr_ciq',\n",
       " 'wrdsapps_evtstudy_us',\n",
       " 'wrdsapps_finratio',\n",
       " 'wrdsapps_finratio_ccm',\n",
       " 'wrdsapps_finratio_ibes',\n",
       " 'wrdsapps_finratio_ibes_ccm',\n",
       " 'wrdsapps_link_comp_eushort',\n",
       " 'wrdsapps_link_crsp_bond',\n",
       " 'wrdsapps_link_crsp_factset',\n",
       " 'wrdsapps_link_crsp_ibes',\n",
       " 'wrdsapps_link_crsp_taq',\n",
       " 'wrdsapps_link_crsp_taqm',\n",
       " 'wrdsapps_link_datastream_wscope',\n",
       " 'wrdsapps_link_dealscan_wscope',\n",
       " 'wrdsapps_link_supplychain',\n",
       " 'wrdsapps_patents',\n",
       " 'wrdsapps_plink_exec_ciq',\n",
       " 'wrdsapps_plink_exec_trinsider',\n",
       " 'wrdsapps_plink_trinsider_ciq',\n",
       " 'wrdsapps_subsidiary',\n",
       " 'wrdsapps_windices',\n",
       " 'wrdsappssamp_all',\n",
       " 'wrdssec',\n",
       " 'wrdssec_all',\n",
       " 'wrdssec_bow',\n",
       " 'wrdssec_common',\n",
       " 'wrdssec_midas',\n",
       " 'wrdssec_secsa',\n",
       " 'zacksamp',\n",
       " 'zacksamp_all']"
      ]
     },
     "execution_count": 4,
     "metadata": {},
     "output_type": "execute_result"
    }
   ],
   "execution_count": 4
  },
  {
   "metadata": {
    "ExecuteTime": {
     "end_time": "2025-01-12T01:28:13.511486Z",
     "start_time": "2025-01-12T01:28:13.402470Z"
    }
   },
   "cell_type": "code",
   "source": [
    "libraries = db.list_libraries()\n",
    "db.list_tables(library='crsp_a_stock')"
   ],
   "id": "289cba588d4abcaf",
   "outputs": [
    {
     "data": {
      "text/plain": [
       "['dse',\n",
       " 'dseall',\n",
       " 'dsedelist',\n",
       " 'dsedist',\n",
       " 'dseexchdates',\n",
       " 'dsenames',\n",
       " 'dsenasdin',\n",
       " 'dseshares',\n",
       " 'dsf',\n",
       " 'dsf_v2',\n",
       " 'dsfhdr',\n",
       " 'dsi',\n",
       " 'dsiy',\n",
       " 'inddlyseriesdata',\n",
       " 'indfamilyinfohdr',\n",
       " 'indmthseriesdata',\n",
       " 'indseriesinfohdr',\n",
       " 'metacalendarperiod',\n",
       " 'metacolumncoverage',\n",
       " 'metacolumninfo',\n",
       " 'metaexchangecalendar',\n",
       " 'metafileinfo',\n",
       " 'metaflagcoverage',\n",
       " 'metaflaginfo',\n",
       " 'metaflagtype',\n",
       " 'metaiteminfo',\n",
       " 'metasiztociz',\n",
       " 'mse',\n",
       " 'mseall',\n",
       " 'msedelist',\n",
       " 'msedist',\n",
       " 'mseexchdates',\n",
       " 'msenames',\n",
       " 'msenasdin',\n",
       " 'mseshares',\n",
       " 'msf',\n",
       " 'msf_v2',\n",
       " 'msfhdr',\n",
       " 'msi',\n",
       " 'msiy',\n",
       " 'saz_agg_ann',\n",
       " 'saz_agg_ann_legacy',\n",
       " 'saz_agg_mth',\n",
       " 'saz_agg_mth_legacy',\n",
       " 'saz_agg_qtr',\n",
       " 'saz_agg_qtr_legacy',\n",
       " 'saz_del',\n",
       " 'saz_del_legacy',\n",
       " 'saz_dind',\n",
       " 'saz_dind_legacy',\n",
       " 'saz_dis',\n",
       " 'saz_dis_legacy',\n",
       " 'saz_dp_dly',\n",
       " 'saz_dp_dly_legacy',\n",
       " 'saz_ds_dly',\n",
       " 'saz_ds_dly_legacy',\n",
       " 'saz_hdr',\n",
       " 'saz_hdr_legacy',\n",
       " 'saz_indhdr',\n",
       " 'saz_indhdr_legacy',\n",
       " 'saz_mdel',\n",
       " 'saz_mdel_legacy',\n",
       " 'saz_mind',\n",
       " 'saz_mind_legacy',\n",
       " 'saz_mth',\n",
       " 'saz_mth_legacy',\n",
       " 'saz_nam',\n",
       " 'saz_nam_legacy',\n",
       " 'saz_ndi',\n",
       " 'saz_ndi_legacy',\n",
       " 'saz_shr',\n",
       " 'saz_shr_legacy',\n",
       " 'stkannsecuritydata',\n",
       " 'stkdelists',\n",
       " 'stkdistributions',\n",
       " 'stkdlysecuritydata',\n",
       " 'stkdlysecurityprimarydata',\n",
       " 'stkissuerinfohdr',\n",
       " 'stkissuerinfohist',\n",
       " 'stkmthfloatshares',\n",
       " 'stkmthsecuritydata',\n",
       " 'stkqtrsecuritydata',\n",
       " 'stksecurityinfohdr',\n",
       " 'stksecurityinfohist',\n",
       " 'stkshares',\n",
       " 'stock_qvards',\n",
       " 'stocknames',\n",
       " 'stocknames_v2',\n",
       " 'wrds_dailyindexret_query',\n",
       " 'wrds_dsfv2_query',\n",
       " 'wrds_monthlyindexret_query',\n",
       " 'wrds_msfv2_query',\n",
       " 'wrds_names_query']"
      ]
     },
     "execution_count": 5,
     "metadata": {},
     "output_type": "execute_result"
    }
   ],
   "execution_count": 5
  },
  {
   "metadata": {
    "jupyter": {
     "is_executing": true
    }
   },
   "cell_type": "code",
   "source": "data = db.get_table(library='crsp_a_stock', table='wrds_dsfv2_query')",
   "id": "6c6c87be62898303",
   "outputs": [],
   "execution_count": null
  },
  {
   "metadata": {
    "ExecuteTime": {
     "end_time": "2025-01-12T01:29:53.604348Z",
     "start_time": "2025-01-12T01:29:53.602740Z"
    }
   },
   "cell_type": "code",
   "source": "",
   "id": "aec8cad7b1617ca5",
   "outputs": [],
   "execution_count": 8
  },
  {
   "metadata": {},
   "cell_type": "code",
   "outputs": [],
   "execution_count": null,
   "source": "",
   "id": "579f832b6d76a995"
  }
 ],
 "metadata": {
  "kernelspec": {
   "display_name": "Python 3",
   "language": "python",
   "name": "python3"
  },
  "language_info": {
   "codemirror_mode": {
    "name": "ipython",
    "version": 2
   },
   "file_extension": ".py",
   "mimetype": "text/x-python",
   "name": "python",
   "nbconvert_exporter": "python",
   "pygments_lexer": "ipython2",
   "version": "2.7.6"
  }
 },
 "nbformat": 4,
 "nbformat_minor": 5
}
